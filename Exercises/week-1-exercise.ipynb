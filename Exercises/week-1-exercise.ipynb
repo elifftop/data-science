{
 "cells": [
  {
   "cell_type": "markdown",
   "metadata": {},
   "source": [
    "## Week 1"
   ]
  },
  {
   "cell_type": "markdown",
   "metadata": {},
   "source": [
    "### Exercise 1:"
   ]
  },
  {
   "cell_type": "markdown",
   "metadata": {},
   "source": [
    "Write a function that receives a list as parameter and return how many elements it has; if it doesn't have any element return an error."
   ]
  },
  {
   "cell_type": "markdown",
   "metadata": {},
   "source": [
    "### Solution 1-1:"
   ]
  },
  {
   "cell_type": "code",
   "execution_count": null,
   "metadata": {},
   "outputs": [],
   "source": [
    "def lenght(my_list):\n",
    "    if not my_list:\n",
    "        raise ValueError(\"List is empty.\")\n",
    "    else:\n",
    "        return len(my_list)\n",
    "\n",
    "try:\n",
    "    my_list = [1, 2, 3, 4, 5]\n",
    "    result = lenght(my_list)\n",
    "    print(f\"Length of list: {result}\")\n",
    "except ValueError as e:\n",
    "    print(f\"Error: {e}\")"
   ]
  },
  {
   "cell_type": "markdown",
   "metadata": {},
   "source": [
    "### Solution 1-2:"
   ]
  },
  {
   "cell_type": "code",
   "execution_count": null,
   "metadata": {},
   "outputs": [],
   "source": [
    "my_list2 = [1, 2 , 3, \"a\", \"b\", \"c\"]\n",
    "\n",
    "def count_list():\n",
    "    if len(my_list2) == 0:\n",
    "        raise ValueError(\"List is empty.\")\n",
    "    else:\n",
    "        print(f\"Length of list: {len(my_list2)}\")\n",
    "\n",
    "try:\n",
    "    count_list()\n",
    "except ValueError as e:\n",
    "    print(f\"Error: {e}\")"
   ]
  },
  {
   "cell_type": "markdown",
   "metadata": {},
   "source": [
    "### Solution 1-3:"
   ]
  },
  {
   "cell_type": "code",
   "execution_count": null,
   "metadata": {},
   "outputs": [],
   "source": [
    "\n",
    "parameter = input(\"Please enter something: \")\n",
    "print(f\"Your input: {parameter}\")\n",
    "\n",
    "def parameters():\n",
    "    if len(parameter) == 0:\n",
    "        raise ValueError(\"Input is empty.\")\n",
    "    else: \n",
    "         print(f\"Length of input: {len(parameter)}\" )\n",
    "    \n",
    "try:\n",
    "    parameters()\n",
    "except ValueError as e:\n",
    "    print(f\"Error: {e}\")"
   ]
  },
  {
   "cell_type": "markdown",
   "metadata": {},
   "source": [
    "### Exercise 2:"
   ]
  },
  {
   "cell_type": "markdown",
   "metadata": {},
   "source": [
    "Write a function that receives a string as parameter and return the number of each character in it."
   ]
  },
  {
   "cell_type": "markdown",
   "metadata": {},
   "source": [
    "### Solution 2-1:"
   ]
  },
  {
   "cell_type": "code",
   "execution_count": null,
   "metadata": {},
   "outputs": [],
   "source": [
    "my_string = \"What a beautiful day!\"\n",
    "print(f\"Sentence: {my_string}\")\n",
    "\n",
    "def count_character():\n",
    "    repetition = {}\n",
    "    for character in my_string:\n",
    "        if character == ' ':\n",
    "            character = 'space'\n",
    "        \n",
    "        if character in repetition:\n",
    "            repetition[character] += 1\n",
    "        else:\n",
    "            repetition[character] = 1    \n",
    "    return repetition\n",
    "\n",
    "my_result = count_character()\n",
    "\n",
    "for character, number in my_result.items():\n",
    "    print(f\"The character '{character}' is repeated {number} times.\")\n"
   ]
  },
  {
   "cell_type": "markdown",
   "metadata": {},
   "source": [
    "### Solution 2-2:"
   ]
  },
  {
   "cell_type": "code",
   "execution_count": null,
   "metadata": {},
   "outputs": [],
   "source": [
    "my_string2 = \"What a beautiful day!\"\n",
    "print(f\"Sentence: {my_string2}\")\n",
    "\n",
    "def count_character2():\n",
    "    repetition2 = {}\n",
    "    for character2 in my_string2:\n",
    "        if character2 != ' ':\n",
    "            if character2 in repetition2:\n",
    "                repetition2[character2] += 1\n",
    "            else:\n",
    "                repetition2[character2] = 1    \n",
    "    return repetition2\n",
    "\n",
    "my_result2 = count_character2()\n",
    "\n",
    "for character2, number2 in my_result2.items():\n",
    "    print(f\"The character '{character2}' is repeated {number2} times.\")"
   ]
  },
  {
   "cell_type": "markdown",
   "metadata": {},
   "source": [
    "### Solution 2-3:"
   ]
  },
  {
   "cell_type": "code",
   "execution_count": null,
   "metadata": {},
   "outputs": [],
   "source": [
    "my_string = input(\"Please enter a sentence: \")\n",
    "print(f\"Sentence: {my_string}\")\n",
    "\n",
    "def count_character():\n",
    "    repetition = {}\n",
    "    for character in my_string:\n",
    "        if character == ' ':\n",
    "            character = 'space'\n",
    "        \n",
    "        if character in repetition:\n",
    "            repetition[character] += 1\n",
    "        else:\n",
    "            repetition[character] = 1    \n",
    "    return repetition\n",
    "\n",
    "my_result = count_character()\n",
    "\n",
    "for character, number in my_result.items():\n",
    "    print(f\"The character '{character}' is repeated {number} times.\")"
   ]
  }
 ],
 "metadata": {
  "kernelspec": {
   "display_name": "Python 3",
   "language": "python",
   "name": "python3"
  },
  "language_info": {
   "codemirror_mode": {
    "name": "ipython",
    "version": 3
   },
   "file_extension": ".py",
   "mimetype": "text/x-python",
   "name": "python",
   "nbconvert_exporter": "python",
   "pygments_lexer": "ipython3",
   "version": "3.10.13"
  }
 },
 "nbformat": 4,
 "nbformat_minor": 2
}
